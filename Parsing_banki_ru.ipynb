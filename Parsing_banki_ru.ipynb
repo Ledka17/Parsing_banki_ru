{
 "cells": [
  {
   "cell_type": "markdown",
   "metadata": {},
   "source": [
    "# Парсинг сайта banki.ru"
   ]
  },
  {
   "cell_type": "markdown",
   "metadata": {},
   "source": [
    "### Установка библиотек\n",
    "Если вы не знаете установлены эти библиотеки или нет, то установите еще раз (второй раз установки ничего не сломает)"
   ]
  },
  {
   "cell_type": "code",
   "execution_count": 1,
   "metadata": {},
   "outputs": [],
   "source": [
    "# pip install requests\n",
    "# pip install pandas\n",
    "# pip install time\n",
    "# pip install ssl\n",
    "# pip install bs4\n",
    "# pip install openpyxl"
   ]
  },
  {
   "cell_type": "markdown",
   "metadata": {},
   "source": [
    "### Импорты библиотек"
   ]
  },
  {
   "cell_type": "code",
   "execution_count": 7,
   "metadata": {},
   "outputs": [],
   "source": [
    "import requests\n",
    "from bs4 import BeautifulSoup\n",
    "import pandas as pd\n",
    "import ssl\n",
    "import time as t"
   ]
  },
  {
   "cell_type": "markdown",
   "metadata": {},
   "source": [
    "### Код с опробированием методов"
   ]
  },
  {
   "cell_type": "code",
   "execution_count": 3,
   "metadata": {},
   "outputs": [],
   "source": [
    "url = 'https://banki.ru/insurance/responses/company/sberbankstrahovaniezhizni'\n",
    "r = requests.get(url)"
   ]
  },
  {
   "cell_type": "code",
   "execution_count": 4,
   "metadata": {},
   "outputs": [
    {
     "data": {
      "text/plain": [
       "<Response [200]>"
      ]
     },
     "execution_count": 4,
     "metadata": {},
     "output_type": "execute_result"
    }
   ],
   "source": [
    "r"
   ]
  },
  {
   "cell_type": "code",
   "execution_count": 25,
   "metadata": {},
   "outputs": [
    {
     "data": {
      "text/plain": [
       "'<!doctype html>\\n<html class=\"env-no-js env-desktop \"\\n\\tprefix=\"ya: http://webmaster.yandex.ru/vocabularies/\\nog: http://ogp.me/ns#\" xmlns=\"http://www.w3.org/1999/xhtml\" xmlns:og=\"http://opengraphprotocol.org/schema/\" xmlns:fb=\"http://www.facebook.com/2008/fbml\">\\n\\t<head >\\n\\t\\t\\t\\t\\t<link rel=\"shortcut icon\" href=\"/static/favicons/favicon.ico\">\\n<link rel=\"icon\" type=\"image/png\" sizes=\"16x16\" href=\"/static/favicons/favicon-16x16.png\">\\n<link rel=\"icon\" type=\"image/png\" sizes=\"32x32\" href=\"/static/favicons/favicon-32x32.png\">\\n\\n<meta name=\"mobile-web-app-capable\" content=\"yes\">\\n<meta name=\"theme-color\" content=\"#fff\">\\n<meta name=\"application-name\" content=\"Banki.ru — финансовый супермаркет\">\\n<link rel=\"apple-touch-icon\" sizes=\"57x57\" href=\"/static/favicons/apple-touch-icon-57x57.png\">\\n<link rel=\"apple-touch-icon\" sizes=\"60x60\" href=\"/static/favicons/apple-touch-icon-60x60.png\">\\n<link rel=\"apple-touch-icon\" sizes=\"72x72\" href=\"/static/favicons/apple-touch-icon-72x72.png\">\\n<link rel=\"apple-touch-icon'"
      ]
     },
     "execution_count": 25,
     "metadata": {},
     "output_type": "execute_result"
    }
   ],
   "source": [
    "r.text[:1000]"
   ]
  },
  {
   "cell_type": "code",
   "execution_count": 27,
   "metadata": {},
   "outputs": [
    {
     "data": {
      "text/plain": [
       "<article class=\"responses__item\" data-id=\"3246\" data-state=\"collapsed\" data-test=\"responses-item\" itemscope=\"\" itemtype=\"http://data-vocabulary.org/Review\">\n",
       "<meta content=\"Сбербанк страхование\" itemprop=\"itemreviewed\"/>\n",
       "<div class=\"flexbox flexbox--row flexbox--gap_xxsmall flexbox--align-items_flex-start\">\n",
       "<a class=\"header-h3\" data-test=\"responses-header\" href=\"/insurance/responses/company/response/3246/\" itemprop=\"summary\">Смещение сроков составления страхового акта, без предупреждения</a>\n",
       "</div>\n",
       "<div class=\"margin-top-xx-small color-gray-burn\">\n",
       "<div class=\"flexbox flexbox--inline flexbox--row flexbox--gap_xsmall flexbox--align-items_baseline\" itemprop=\"reviewRating\" itemscope=\"\" itemtype=\"http://schema.org/Rating\">\n",
       "<span class=\"text-label\" data-test=\"responses-estimate\">Оценка:</span>\n",
       "<span class=\"rating-grade rating-grade--small rating-grade--value-1\" data-test=\"responses-rating-grade\" itemprop=\"rating\">\n",
       "\t\t\t1\n",
       "\t\t</span>\n",
       "<span class=\"text-label\" data-test=\"responses-status\">\n",
       "</span>\n",
       "</div>\n",
       "</div>\n",
       "<div class=\"responses__item__message\" data-preview=\"\" data-test=\"responses-message\">\n",
       "\t\t\t\t\t\t\t\t\tДень добрый.<br/>13.01.17г. у меня произошел страховой случай (полностью сгорел дом со всем имуществом) по страховому полюсу страхования недвижимого имущества (ипотеки) Серия 001WS No 1130010256 от 13.09.2016. Комплект документов необходимый для принятия решения был отправлен в Москву. 31.01.17г. Мне позвонил специалист компании и сказал, что весь комплект документов получен и в течение 10 рабочих дней ждать принятия решения.<br/><br/>14...\n",
       "\t\t\t\t\t\t\t\t\t<span class=\"pseudo-link\" data-click=\"expand\">Читать далее</span>\n",
       "</div>\n",
       "<div class=\"responses__item__message markup-inside-small markup-inside-small--bullet\" data-full=\"\" itemprop=\"description\">\n",
       "\t\t\t\t\t\t\t\t\tДень добрый.<br>13.01.17г. у меня произошел страховой случай (полностью сгорел дом со всем имуществом) по страховому полюсу страхования недвижимого имущества (ипотеки) Серия 001WS No 1130010256 от 13.09.2016. Комплект документов необходимый для принятия решения был отправлен в Москву. 31.01.17г. Мне позвонил специалист компании и сказал, что весь комплект документов получен и в течение 10 рабочих дней ждать принятия решения.<br><br>14.02.17г., я позвонил в компанию, мне сообщили, что кто-то 03.02.17г., дослал еще какие-то документы, кто и зачем не сообщили, не в их компетенции. И сказали с 03.02. прибавлять еще десять дней.<br><br/>17.02.17г., я снова позвонил в компанию, где мне опять сообщили, что 17.02. пришли опять какие-то документы. На мой вопрос кто, зачем и от кого мне сообщают необходимые документы от компетентных органов. И с 17.02. прибавляйте еще 10 дней на рассмотрение. Меня же ни разу никто в известность от каких-либо запросах и отсутствие документов и смещении сроков рассмотрения моего обращения в одностороннем порядке, в известность не ставит. Хотя согласно договора страхования страховая компания должна рассмотреть полученные мной документы в течение 10 рабочих дней. Все документы предоставлены согласно списка компании и мне об отсутствии или некорректном документе не сообщалось.<br/><br/>В настоящий момент плачу ипотеку за полностью сгоревший дом, оплачиваю съемное жилье, сидим на хлебе с водой с маленьким ребенком и нахожусь в неведении по своему страховому обращению. СПАСИБО сбербанк страхованию.<br/>С уважением<br/>Бучельников С.Д.\n",
       "\t\t\t\t\t\t\t\t</br></br></br></br></div>\n",
       "<div class=\"response-thread\">\n",
       "<div class=\"response-thread-item response-thread-item--admin-type\">\n",
       "<header class=\"thread-item__header\">\n",
       "<span class=\"thread-item__user\">Администратор портала</span>\n",
       "<time class=\"thread-item__time\" datetime=\"2017-03-07 22:06:40\">07.03.2017 22:06</time>\n",
       "</header>\n",
       "<div class=\"thread-item__text\">Автор, расскажите подробнее, какую информацию получили от СК?</div>\n",
       "</div>\n",
       "<div class=\"response-thread-item response-thread-item--company-type\">\n",
       "<header class=\"thread-item__header\">\n",
       "<span class=\"thread-item__user\">Сбербанк страхование</span>\n",
       "<time class=\"thread-item__time\" datetime=\"2017-02-20 18:01:11\">20.02.2017 18:01</time>\n",
       "</header>\n",
       "<div class=\"thread-item__text\">Уважаемый 999faktor!<br/>Искренне сожалеем, что при взаимодействии с нашей компанией возникли сложности.<br/>Информация о статусе рассмотрения заявленного события и наши пояснения направлены на e-mail, указанный Вами в заявлении на выплату страхового возмещения.<br/>Приносим извинения за причиненные неудобства и выражаем надежду на Ваше понимание в сложившейся ситуации.</div>\n",
       "</div>\n",
       "</div>\n",
       "<footer class=\"flexbox flexbox--row flexbox--gap_default\">\n",
       "<div class=\"responses__item__info\" data-test=\"responses-item-info\">\n",
       "<time data-test=\"responses-datetime\" datetime=\"2017-02-20 09:39:51\" itemprop=\"dtreviewed\" pubdate=\"\">20.02.2017 9:39</time>\n",
       "<span class=\"ui-bull-sep\"></span>\n",
       "<div class=\"responses__item__comment\" data-test=\"responses-item-comment\">\n",
       "<a href=\"/insurance/responses/company/response/3246/#comments\">Комментировать</a>\n",
       "</div>\n",
       "</div>\n",
       "<div>\n",
       "<div class=\"inline-elements--small expand-panel-toggler-wrapper\" data-click=\"expand\" data-test=\"responses-expand-arrow\" title=\"развернуть\">\n",
       "<span class=\"color-green\">\n",
       "<span class=\"icon-font icon-checkmark-circled-16 icon-font--size_small\"></span>\n",
       "\t\t\t\t\t\t\t\t\t\t\t\t\tОтвет компании\n",
       "\t\t\t\t\t\t\t\t\t\t\t\t</span>\n",
       "<span class=\"expand-panel-toggler\">\n",
       "<span class=\"icon-font icon-arrow-down-16 icon-font--size_small\"></span>\n",
       "</span>\n",
       "</div>\n",
       "<div class=\"inline-elements--small expand-panel-toggler-wrapper\" data-click=\"collapse\" title=\"свернуть\">\n",
       "<span class=\"color-green\">\n",
       "<span class=\"icon-font icon-checkmark-circled-16 icon-font--size_small\"></span>\n",
       "\t\t\t\t\t\t\t\t\t\t\t\t\tОтвет компании\n",
       "\t\t\t\t\t\t\t\t\t\t\t\t</span>\n",
       "<span class=\"expand-panel-toggler\">\n",
       "<span class=\"icon-font icon-arrow-top-16 icon-font--size_small\"></span>\n",
       "</span>\n",
       "</div>\n",
       "</div>\n",
       "</footer>\n",
       "</article>"
      ]
     },
     "execution_count": 27,
     "metadata": {},
     "output_type": "execute_result"
    }
   ],
   "source": [
    "soup = BeautifulSoup(r.text)\n",
    "article = soup.find('article')\n",
    "article"
   ]
  },
  {
   "cell_type": "code",
   "execution_count": 14,
   "metadata": {},
   "outputs": [
    {
     "data": {
      "text/plain": [
       "'страхование жизни'"
      ]
     },
     "execution_count": 14,
     "metadata": {},
     "output_type": "execute_result"
    }
   ],
   "source": [
    "header = article.find('a', {'data-test': 'responses-header'}).text\n",
    "header"
   ]
  },
  {
   "cell_type": "code",
   "execution_count": 15,
   "metadata": {},
   "outputs": [
    {
     "data": {
      "text/plain": [
       "'/insurance/responses/company/response/28235/'"
      ]
     },
     "execution_count": 15,
     "metadata": {},
     "output_type": "execute_result"
    }
   ],
   "source": [
    "href = article.find('a', {'data-test': 'responses-header'}).get('href')\n",
    "href"
   ]
  },
  {
   "cell_type": "code",
   "execution_count": 17,
   "metadata": {},
   "outputs": [
    {
     "data": {
      "text/plain": [
       "('/insurance/responses/company/response/28235/',\n",
       " 'страхование жизни',\n",
       " 'ООО СК \"Сбербанк\"-организация-лохотрон!!!! Люди, опомнитесь, какое страхование,\\xa0 заключив такого рода договор\\xa0 вы содержите государство! в лице страховой компании Сбербанк! Никаких процентов, премий страховых выплачено\\xa0 НЕ БУДЕТ!!!!! Это обман!Пенсионеры! у вас слишком много денег, не знаете как их потратить!? Живите в свое удовольствие! ни в коем случае не заключайте договоров со Сбербанком!',\n",
       " '2020-04-21 21:12:47',\n",
       " None,\n",
       " None,\n",
       " None)"
      ]
     },
     "execution_count": 17,
     "metadata": {},
     "output_type": "execute_result"
    }
   ],
   "source": [
    "href = article.find('a', {'data-test': 'responses-header'}).get('href')\n",
    "header = article.find('a', {'data-test': 'responses-header'}).text\n",
    "text = article.find('div', {'itemprop': 'description'}).text.strip()\n",
    "time = article.find('time', {'data-test': 'responses-datetime', 'itemprop': 'dtreviewed'}).get('datetime')\n",
    "\n",
    "try:\n",
    "    rating = article.find('span', {'data-test': 'responses-rating-grade'}).text.strip()\n",
    "except:\n",
    "    rating = None\n",
    "try:\n",
    "    rating_payouts = article.find('strong', {'class': 'font-size-medium'}).text.strip()\n",
    "except:\n",
    "    rating_payouts = None\n",
    "try:\n",
    "    rating_status = article.find('span', {'data-test': 'responses-status'}).text.strip()\n",
    "except:\n",
    "    rating_status = None\n",
    "\n",
    "href, header, text, time, rating, rating_payouts, rating_status"
   ]
  },
  {
   "cell_type": "code",
   "execution_count": 28,
   "metadata": {},
   "outputs": [
    {
     "data": {
      "text/html": [
       "<div>\n",
       "<style scoped>\n",
       "    .dataframe tbody tr th:only-of-type {\n",
       "        vertical-align: middle;\n",
       "    }\n",
       "\n",
       "    .dataframe tbody tr th {\n",
       "        vertical-align: top;\n",
       "    }\n",
       "\n",
       "    .dataframe thead th {\n",
       "        text-align: right;\n",
       "    }\n",
       "</style>\n",
       "<table border=\"1\" class=\"dataframe\">\n",
       "  <thead>\n",
       "    <tr style=\"text-align: right;\">\n",
       "      <th></th>\n",
       "      <th>url жалобы</th>\n",
       "      <th>Заголовок</th>\n",
       "      <th>Статус</th>\n",
       "      <th>Текст</th>\n",
       "      <th>Время</th>\n",
       "      <th>Оценка</th>\n",
       "      <th>Оценка выплат</th>\n",
       "    </tr>\n",
       "  </thead>\n",
       "  <tbody>\n",
       "    <tr>\n",
       "      <th>0</th>\n",
       "      <td>/insurance/responses/company/response/3246/</td>\n",
       "      <td>Смещение сроков составления страхового акта, б...</td>\n",
       "      <td></td>\n",
       "      <td>День добрый.13.01.17г. у меня произошел страхо...</td>\n",
       "      <td>2017-02-20 09:39:51</td>\n",
       "      <td>1</td>\n",
       "      <td>None</td>\n",
       "    </tr>\n",
       "    <tr>\n",
       "      <th>1</th>\n",
       "      <td>/insurance/responses/company/response/3160/</td>\n",
       "      <td>Страхование без выплат</td>\n",
       "      <td>Оценка по выплатам:\\n1</td>\n",
       "      <td>Компанию ООО \"СБЕРБАНК СТРАХОВАНИЕ\"  выбрал, т...</td>\n",
       "      <td>2017-02-08 13:51:55</td>\n",
       "      <td>None</td>\n",
       "      <td>1</td>\n",
       "    </tr>\n",
       "    <tr>\n",
       "      <th>2</th>\n",
       "      <td>/insurance/responses/company/response/3146/</td>\n",
       "      <td>Игнорирование сотрудниками страховой, некомпет...</td>\n",
       "      <td></td>\n",
       "      <td>Добрый день.27 октября 2016 года, обратившись ...</td>\n",
       "      <td>2017-02-06 17:35:09</td>\n",
       "      <td>1</td>\n",
       "      <td>None</td>\n",
       "    </tr>\n",
       "    <tr>\n",
       "      <th>3</th>\n",
       "      <td>/insurance/responses/company/response/3116/</td>\n",
       "      <td>Не можем получить страховую выплату от СБЕРБАН...</td>\n",
       "      <td></td>\n",
       "      <td>30 января 2017 года у меня Хатламаджиева А. М....</td>\n",
       "      <td>2017-02-02 11:56:43</td>\n",
       "      <td>1</td>\n",
       "      <td>None</td>\n",
       "    </tr>\n",
       "    <tr>\n",
       "      <th>4</th>\n",
       "      <td>/insurance/responses/company/response/3110/</td>\n",
       "      <td>Не возвращают страховую премию при расторжении...</td>\n",
       "      <td>Проблема решена</td>\n",
       "      <td>Здравствуйте, но сложилась вопиющая ситуация, ...</td>\n",
       "      <td>2017-02-01 15:44:41</td>\n",
       "      <td>2</td>\n",
       "      <td>None</td>\n",
       "    </tr>\n",
       "  </tbody>\n",
       "</table>\n",
       "</div>"
      ],
      "text/plain": [
       "                                    url жалобы  \\\n",
       "0  /insurance/responses/company/response/3246/   \n",
       "1  /insurance/responses/company/response/3160/   \n",
       "2  /insurance/responses/company/response/3146/   \n",
       "3  /insurance/responses/company/response/3116/   \n",
       "4  /insurance/responses/company/response/3110/   \n",
       "\n",
       "                                           Заголовок                  Статус  \\\n",
       "0  Смещение сроков составления страхового акта, б...                           \n",
       "1                             Страхование без выплат  Оценка по выплатам:\\n1   \n",
       "2  Игнорирование сотрудниками страховой, некомпет...                           \n",
       "3  Не можем получить страховую выплату от СБЕРБАН...                           \n",
       "4  Не возвращают страховую премию при расторжении...         Проблема решена   \n",
       "\n",
       "                                               Текст                Время  \\\n",
       "0  День добрый.13.01.17г. у меня произошел страхо...  2017-02-20 09:39:51   \n",
       "1  Компанию ООО \"СБЕРБАНК СТРАХОВАНИЕ\"  выбрал, т...  2017-02-08 13:51:55   \n",
       "2  Добрый день.27 октября 2016 года, обратившись ...  2017-02-06 17:35:09   \n",
       "3  30 января 2017 года у меня Хатламаджиева А. М....  2017-02-02 11:56:43   \n",
       "4  Здравствуйте, но сложилась вопиющая ситуация, ...  2017-02-01 15:44:41   \n",
       "\n",
       "  Оценка Оценка выплат  \n",
       "0      1          None  \n",
       "1   None             1  \n",
       "2      1          None  \n",
       "3      1          None  \n",
       "4      2          None  "
      ]
     },
     "execution_count": 28,
     "metadata": {},
     "output_type": "execute_result"
    }
   ],
   "source": [
    "df = pd.DataFrame(columns=[\n",
    "    'url жалобы', 'Заголовок', 'Статус', 'Текст', 'Время', 'Оценка', 'Оценка выплат',\n",
    "])\n",
    "\n",
    "for article in soup.findAll('article'):\n",
    "    try:\n",
    "        href = article.find('a', {'data-test': 'responses-header'}).get('href')\n",
    "        header = article.find('a', {'data-test': 'responses-header'}).text\n",
    "        text = article.find('div', {'itemprop': 'description'}).text.strip()\n",
    "        time = article.find('time', {'data-test': 'responses-datetime', 'itemprop': 'dtreviewed'}).get('datetime')\n",
    "\n",
    "        # optional\n",
    "        try:\n",
    "            rating = article.find('span', {'data-test': 'responses-rating-grade'}).text.strip()\n",
    "        except:\n",
    "            rating = None\n",
    "        try:\n",
    "            rating_payouts = article.find('strong', {'class': 'font-size-medium'}).text.strip()\n",
    "        except:\n",
    "            rating_payouts = None\n",
    "        try:\n",
    "            rating_status = article.find('span', {'data-test': 'responses-status'}).text.strip()\n",
    "        except:\n",
    "            rating_status = None\n",
    "\n",
    "        row = [href, header, rating_status, text, time, rating, rating_payouts]\n",
    "\n",
    "        df.loc[len(df)] = row\n",
    "    except:\n",
    "        pass\n",
    "    \n",
    "df.head()"
   ]
  },
  {
   "cell_type": "markdown",
   "metadata": {},
   "source": [
    "### Объединенный код "
   ]
  },
  {
   "cell_type": "code",
   "execution_count": 23,
   "metadata": {},
   "outputs": [
    {
     "name": "stdout",
     "output_type": "stream",
     "text": [
      "СБСЖ\n",
      "СБС\n",
      "1634\n"
     ]
    }
   ],
   "source": [
    "ssl._create_default_https_context = ssl._create_unverified_context # чтобы\n",
    "\n",
    "base_url = 'https://banki.ru/'\n",
    "\n",
    "companies = {\n",
    "    'СБСЖ': {\n",
    "        'pages': 50,  \n",
    "        'url': 'insurance/responses/company/sberbankstrahovaniezhizni/',\n",
    "    }, # СБСЖ \n",
    "    'СБС': {\n",
    "        'pages': 16,\n",
    "        'url': 'insurance/responses/company/sberbankstrahovanie/',\n",
    "    }, # СБС \n",
    "}\n",
    "\n",
    "page_url = '?page='\n",
    "\n",
    "df = pd.DataFrame(columns=[\n",
    "    'Компания', 'url жалобы', 'Заголовок', 'Статус', 'Текст', 'Время', 'Оценка', 'Оценка выплат',\n",
    "])\n",
    "\n",
    "for company in companies.keys():\n",
    "    print(company)\n",
    "\n",
    "    company_url = companies[company]['url']\n",
    "    r = requests.get(base_url + company_url)\n",
    "    soup = BeautifulSoup(r.text)\n",
    "\n",
    "    pages = companies[company]['pages']\n",
    "\n",
    "    for page in range(2, pages + 2):\n",
    "        t.sleep(2)\n",
    "\n",
    "        for article in soup.findAll('article'):\n",
    "            try:\n",
    "                href = article.find('a', {'data-test': 'responses-header'}).get('href')\n",
    "                header = article.find('a', {'data-test': 'responses-header'}).text\n",
    "                text = article.find('div', {'itemprop': 'description'}).text.strip()\n",
    "                time = article.find('time', {'data-test': 'responses-datetime', 'itemprop': 'dtreviewed'}).get('datetime')\n",
    "                \n",
    "                # optional\n",
    "                try:\n",
    "                    rating = article.find('span', {'data-test': 'responses-rating-grade'}).text.strip()\n",
    "                except:\n",
    "                    rating = None\n",
    "                try:\n",
    "                    rating_payouts = article.find('strong', {'class': 'font-size-medium'}).text.strip()\n",
    "                except:\n",
    "                    rating_payouts = None\n",
    "                try:\n",
    "                    rating_status = article.find('span', {'data-test': 'responses-status'}).text.strip()\n",
    "                except:\n",
    "                    rating_status = None\n",
    "\n",
    "                row = [company, base_url+href[1:], header, rating_status, text, time, rating, rating_payouts]\n",
    "\n",
    "                df.loc[len(df)] = row\n",
    "            except:\n",
    "                pass\n",
    "\n",
    "        # Взятие следующей страницы\n",
    "        try:\n",
    "            if page <= pages:\n",
    "                r = requests.get(base_url + company_url + page_url + str(page))\n",
    "                soup = BeautifulSoup(r.text, features='lxml')\n",
    "        except:\n",
    "            pass\n",
    "\n",
    "print(len(df))\n",
    "df.to_excel('Отзывы_страхование.xlsx')"
   ]
  }
 ],
 "metadata": {
  "kernelspec": {
   "display_name": "Python 3",
   "language": "python",
   "name": "python3"
  },
  "language_info": {
   "codemirror_mode": {
    "name": "ipython",
    "version": 3
   },
   "file_extension": ".py",
   "mimetype": "text/x-python",
   "name": "python",
   "nbconvert_exporter": "python",
   "pygments_lexer": "ipython3",
   "version": "3.6.5"
  }
 },
 "nbformat": 4,
 "nbformat_minor": 4
}
